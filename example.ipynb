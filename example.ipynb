{
 "cells": [
  {
   "cell_type": "code",
   "execution_count": null,
   "id": "848ad6d5",
   "metadata": {},
   "outputs": [],
   "source": [
    "import pandas as pd\n",
    "import utils\n",
    "import os\n",
    "import ft_ensemble"
   ]
  },
  {
   "cell_type": "code",
   "execution_count": null,
   "id": "06c150a4",
   "metadata": {},
   "outputs": [],
   "source": [
    "path_2_9km_models =  r'D:\\SynologyDrive\\DenseSM_9km' # path_2_pretrained_DenseSM-E\n",
    "# source 50m\n",
    "input_fine = pd.read_csv('E:\\Demo\\samples\\input_fine.csv',index_col='s_index')\n",
    "# source 9km\n",
    "input_9km = pd.read_csv('E:\\Demo\\samples\\input_9km.csv')"
   ]
  },
  {
   "cell_type": "code",
   "execution_count": null,
   "id": "c17024aa",
   "metadata": {},
   "outputs": [],
   "source": [
    "setup = {'lr':5e-4, # learning rate\n",
    "        'epoch_Num':50,# number of epochs\n",
    "        'swa_start':40,\n",
    "        'alpha':0.7,# alpha in eq. 3\n",
    "        'beta':'auto',# beta in eq. 3 and was determined by eq.4\n",
    "        'domain_type':'coral',\n",
    "        'mv_type':'MAPE',\n",
    "        'ex':'ft13_models',\n",
    "        'batchS':128,# size of batch\n",
    "        'br':1}# control the numbmer of unlabled samples and 9km samples, 1 means 1*batch_size\n",
    "network_name=['SCAN']# used for training and testing in the transductive mode\n",
    "base_dir = r'E:\\Demo' #%network_name\n",
    "size_r =list(range(1,22,4))+[29,37,45]# number of stations used for training\n",
    "model_dir_e = os.path.join(base_dir,setup['ex'])\n",
    "if not os.path.exists(model_dir_e):\n",
    "    os.mkdir(model_dir_e)"
   ]
  },
  {
   "cell_type": "code",
   "execution_count": null,
   "id": "e9cce50e",
   "metadata": {
    "scrolled": false
   },
   "outputs": [],
   "source": [
    "input_9km=utils.get_9km_of_a_network(input_fine,input_9km,network_name)\n",
    "for nsample in size_r:\n",
    "    model_dir = os.path.join(model_dir_e,'n_%s'%str(nsample))\n",
    "    if not os.path.exists(model_dir):\n",
    "        os.mkdir(model_dir)\n",
    "\n",
    "    for r in range(10):# 10 implementation\n",
    "        if isinstance(setup['beta'],str):\n",
    "            model_dir_r = os.path.join(model_dir,'a%s_b%s_r%s'%(int(setup['alpha']*100),setup['beta'],str(r)))\n",
    "        else:\n",
    "            model_dir_r = os.path.join(model_dir,'a%s_b%s_r%s'%(int(setup['alpha']*100),int(setup['beta']*100),str(r)))\n",
    "        if not os.path.exists(model_dir_r):\n",
    "            os.mkdir(model_dir_r)\n",
    "        train_val_index = utils.get_train_val_index(input_fine,nsample,network=network_name)\n",
    "        trainloader, val_data,targetloader,train_data,loader_9km = utils.prepare_train_val_data_multiscale(input_fine,train_val_index,input_9km,setup['batchS'],setup['br'])\n",
    "        modelX=ft_ensemble.Build_DenseSM(path_2_9km_models)\n",
    "        modelX.rebuild_DenseSME()\n",
    "        data={'sl':trainloader,\n",
    "             'tl':targetloader,\n",
    "             'cl':loader_9km,\n",
    "             'val_data':val_data,\n",
    "             'train_data':train_data}\n",
    "        print(f'Finetune sample:{nsample} repeat:{r}')\n",
    "        ft=ft_ensemble.FinetuneModel(setup,data)\n",
    "        ft.ft_ensemble(modelX,model_dir_r)\n",
    "        df, res, m_specific_y=ft_ensemble.ensemble_results(model_dir_r, val_data)\n",
    "        res.scatter_density_fig(os.path.join(model_dir_r,'ensemble.jpg'))\n",
    "        print(res.stat_3d)"
   ]
  },
  {
   "cell_type": "code",
   "execution_count": null,
   "id": "e0350048",
   "metadata": {},
   "outputs": [],
   "source": []
  }
 ],
 "metadata": {
  "kernelspec": {
   "display_name": "Python 3 (ipykernel)",
   "language": "python",
   "name": "python3"
  },
  "language_info": {
   "codemirror_mode": {
    "name": "ipython",
    "version": 3
   },
   "file_extension": ".py",
   "mimetype": "text/x-python",
   "name": "python",
   "nbconvert_exporter": "python",
   "pygments_lexer": "ipython3",
   "version": "3.10.13"
  }
 },
 "nbformat": 4,
 "nbformat_minor": 5
}
